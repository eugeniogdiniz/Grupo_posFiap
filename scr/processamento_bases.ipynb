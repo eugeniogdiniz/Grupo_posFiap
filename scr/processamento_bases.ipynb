{
 "cells": [
  {
   "cell_type": "code",
   "execution_count": 89,
   "metadata": {},
   "outputs": [],
   "source": [
    "import pandas as pd"
   ]
  },
  {
   "cell_type": "code",
   "execution_count": 101,
   "metadata": {},
   "outputs": [],
   "source": [
    "def classificacao_grupo(valor):\n",
    "    if valor >= 2 and valor <= 69:\n",
    "        return 1\n",
    "    elif valor >= 71:\n",
    "        return 0\n",
    "    else:\n",
    "        return 2\n",
    "    \n",
    "def nomeando_classe(valor):\n",
    "    if valor == 1:\n",
    "        return '6-Tinto'\n",
    "    elif valor == 70:\n",
    "        return 'BRANCAS E ROSADAS'"
   ]
  },
  {
   "cell_type": "code",
   "execution_count": 109,
   "metadata": {},
   "outputs": [
    {
     "data": {
      "text/html": [
       "<div>\n",
       "<style scoped>\n",
       "    .dataframe tbody tr th:only-of-type {\n",
       "        vertical-align: middle;\n",
       "    }\n",
       "\n",
       "    .dataframe tbody tr th {\n",
       "        vertical-align: top;\n",
       "    }\n",
       "\n",
       "    .dataframe thead th {\n",
       "        text-align: right;\n",
       "    }\n",
       "</style>\n",
       "<table border=\"1\" class=\"dataframe\">\n",
       "  <thead>\n",
       "    <tr style=\"text-align: right;\">\n",
       "      <th></th>\n",
       "      <th>id</th>\n",
       "      <th>ano</th>\n",
       "      <th>processado</th>\n",
       "      <th>tipo_processo</th>\n",
       "    </tr>\n",
       "  </thead>\n",
       "  <tbody>\n",
       "    <tr>\n",
       "      <th>0</th>\n",
       "      <td>6-Tinto</td>\n",
       "      <td>1970</td>\n",
       "      <td>10448228</td>\n",
       "      <td>Viniferas</td>\n",
       "    </tr>\n",
       "    <tr>\n",
       "      <th>69</th>\n",
       "      <td>BRANCAS E ROSADAS</td>\n",
       "      <td>1970</td>\n",
       "      <td>18858541</td>\n",
       "      <td>Viniferas</td>\n",
       "    </tr>\n",
       "    <tr>\n",
       "      <th>134</th>\n",
       "      <td>6-Tinto</td>\n",
       "      <td>1971</td>\n",
       "      <td>11012833</td>\n",
       "      <td>Viniferas</td>\n",
       "    </tr>\n",
       "    <tr>\n",
       "      <th>203</th>\n",
       "      <td>BRANCAS E ROSADAS</td>\n",
       "      <td>1971</td>\n",
       "      <td>22168237</td>\n",
       "      <td>Viniferas</td>\n",
       "    </tr>\n",
       "    <tr>\n",
       "      <th>268</th>\n",
       "      <td>6-Tinto</td>\n",
       "      <td>1972</td>\n",
       "      <td>10798824</td>\n",
       "      <td>Viniferas</td>\n",
       "    </tr>\n",
       "  </tbody>\n",
       "</table>\n",
       "</div>"
      ],
      "text/plain": [
       "                    id   ano processado tipo_processo\n",
       "0              6-Tinto  1970   10448228     Viniferas\n",
       "69   BRANCAS E ROSADAS  1970   18858541     Viniferas\n",
       "134            6-Tinto  1971   11012833     Viniferas\n",
       "203  BRANCAS E ROSADAS  1971   22168237     Viniferas\n",
       "268            6-Tinto  1972   10798824     Viniferas"
      ]
     },
     "execution_count": 109,
     "metadata": {},
     "output_type": "execute_result"
    }
   ],
   "source": [
    "caminho_viniferas = r'/home/eugenio/Documentos/Pos/PosTechDataScience_Fiap/Grupo_posFiap/bases/vinho/Processamento/ProcessaViniferas.csv'\n",
    "tabela_processaViniferas = pd.read_csv(caminho_viniferas, sep='\t')\n",
    "tabela_processaViniferas['id_produto'] = tabela_processaViniferas['id'].astype(str) + '-' + tabela_processaViniferas['cultivar']\n",
    "tabela_id_produto = tabela_processaViniferas[['id', 'id_produto']]\n",
    "\n",
    "tabela_processaViniferas_colunas = ['1970', '1971', '1972', '1973', '1974', '1975', '1976',\n",
    "       '1977', '1978', '1979', '1980', '1981', '1982', '1983', '1984', '1985',\n",
    "       '1986', '1987', '1988', '1989', '1990', '1991', '1992', '1993', '1994',\n",
    "       '1995', '1996', '1997', '1998', '1999', '2000', '2001', '2002', '2003',\n",
    "       '2004', '2005', '2006', '2007', '2008', '2009', '2010', '2011', '2012',\n",
    "       '2013', '2014', '2015', '2016', '2017', '2018', '2019', '2020', '2021']\n",
    "\n",
    "producaoVinifera_anual = tabela_processaViniferas.reset_index().melt(id_vars='id', value_vars=tabela_processaViniferas_colunas)\n",
    "producaoVinifera_anual.columns = ['id', 'ano', 'processado']\n",
    "producaoVinifera_anual = producaoVinifera_anual.query(\"id == 1 | id == 70\")\n",
    "producaoVinifera_anual['id'] = producaoVinifera_anual['id'].map(nomeando_classe)\n",
    "producaoVinifera_anual['tipo_processo'] = 'Viniferas'\n",
    "producaoVinifera_anual.head()\n"
   ]
  },
  {
   "cell_type": "code",
   "execution_count": 108,
   "metadata": {},
   "outputs": [
    {
     "data": {
      "text/html": [
       "<div>\n",
       "<style scoped>\n",
       "    .dataframe tbody tr th:only-of-type {\n",
       "        vertical-align: middle;\n",
       "    }\n",
       "\n",
       "    .dataframe tbody tr th {\n",
       "        vertical-align: top;\n",
       "    }\n",
       "\n",
       "    .dataframe thead th {\n",
       "        text-align: right;\n",
       "    }\n",
       "</style>\n",
       "<table border=\"1\" class=\"dataframe\">\n",
       "  <thead>\n",
       "    <tr style=\"text-align: right;\">\n",
       "      <th></th>\n",
       "      <th>id</th>\n",
       "      <th>ano</th>\n",
       "      <th>processado</th>\n",
       "      <th>tipo_processo</th>\n",
       "    </tr>\n",
       "  </thead>\n",
       "  <tbody>\n",
       "    <tr>\n",
       "      <th>0</th>\n",
       "      <td>6-Tinto</td>\n",
       "      <td>1970</td>\n",
       "      <td>56976</td>\n",
       "      <td>Mesa</td>\n",
       "    </tr>\n",
       "    <tr>\n",
       "      <th>10</th>\n",
       "      <td>6-Tinto</td>\n",
       "      <td>1971</td>\n",
       "      <td>43390</td>\n",
       "      <td>Mesa</td>\n",
       "    </tr>\n",
       "    <tr>\n",
       "      <th>20</th>\n",
       "      <td>6-Tinto</td>\n",
       "      <td>1972</td>\n",
       "      <td>4428</td>\n",
       "      <td>Mesa</td>\n",
       "    </tr>\n",
       "    <tr>\n",
       "      <th>30</th>\n",
       "      <td>6-Tinto</td>\n",
       "      <td>1973</td>\n",
       "      <td>8939</td>\n",
       "      <td>Mesa</td>\n",
       "    </tr>\n",
       "    <tr>\n",
       "      <th>40</th>\n",
       "      <td>6-Tinto</td>\n",
       "      <td>1974</td>\n",
       "      <td>125563</td>\n",
       "      <td>Mesa</td>\n",
       "    </tr>\n",
       "  </tbody>\n",
       "</table>\n",
       "</div>"
      ],
      "text/plain": [
       "         id   ano processado tipo_processo\n",
       "0   6-Tinto  1970      56976          Mesa\n",
       "10  6-Tinto  1971      43390          Mesa\n",
       "20  6-Tinto  1972       4428          Mesa\n",
       "30  6-Tinto  1973       8939          Mesa\n",
       "40  6-Tinto  1974     125563          Mesa"
      ]
     },
     "execution_count": 108,
     "metadata": {},
     "output_type": "execute_result"
    }
   ],
   "source": [
    "caminho_Mesa = r'/home/eugenio/Documentos/Pos/PosTechDataScience_Fiap/Grupo_posFiap/bases/vinho/Processamento/ProcessaMesa.csv'\n",
    "tabela_processaMesa = pd.read_csv(caminho_Mesa, sep=';')\n",
    "tabela_processaMesa['id_produto'] = tabela_processaMesa['id'].astype(str) + '-' + tabela_processaMesa['cultivar']\n",
    "tabela_id_produto = tabela_processaMesa[['id', 'id_produto']]\n",
    "\n",
    "tabela_processaMesa_colunas = ['1970', '1971', '1972', '1973', '1974', '1975', '1976',\n",
    "       '1977', '1978', '1979', '1980', '1981', '1982', '1983', '1984', '1985',\n",
    "       '1986', '1987', '1988', '1989', '1990', '1991', '1992', '1993', '1994',\n",
    "       '1995', '1996', '1997', '1998', '1999', '2000', '2001', '2002', '2003',\n",
    "       '2004', '2005', '2006', '2007', '2008', '2009', '2010', '2011', '2012',\n",
    "       '2013', '2014', '2015', '2016', '2017', '2018', '2019', '2020', '2021']\n",
    "\n",
    "producaoVinifera_anual = tabela_processaMesa.reset_index().melt(id_vars='id', value_vars=tabela_processaMesa_colunas)\n",
    "producaoVinifera_anual.columns = ['id', 'ano', 'processado']\n",
    "producaoVinifera_anual = producaoVinifera_anual.query(\"id == 1 | id == 70\")\n",
    "producaoVinifera_anual['id'] = producaoVinifera_anual['id'].map(nomeando_classe)\n",
    "producaoVinifera_anual['tipo_processo'] = 'Mesa'\n",
    "producaoVinifera_anual.head()\n"
   ]
  },
  {
   "cell_type": "code",
   "execution_count": 94,
   "metadata": {},
   "outputs": [],
   "source": [
    "# producaoVinifera_anual = tabela_processaViniferas.reset_index().melt(id_vars='id', value_vars=tabela_processaViniferas_colunas)\n",
    "# producaoVinifera_anual.columns = ['id', 'ano', 'valor']\n",
    "# producaoVinifera_anual = pd.merge(producaoVinifera_anual, tabela_id_produto, on = 'id', how='left')\n",
    "# producaoVinifera_anual['classe_grupo'] = producaoVinifera_anual['id'].map(classificacao_grupo)\n",
    "# producaoVinifera_anual = producaoVinifera_anual.query(\"classe_grupo == 0 | classe_grupo == 1\")\n",
    "# producaoVinifera_anual.head()"
   ]
  },
  {
   "cell_type": "code",
   "execution_count": 97,
   "metadata": {},
   "outputs": [],
   "source": [
    "# producaoVinifera_anual_agrupado = producaoVinifera_anual.groupby(['classe_grupo', 'ano']).agg({'valor': 'sum'}).reset_index()\n",
    "# producaoVinifera_anual_agrupado.head()"
   ]
  },
  {
   "cell_type": "code",
   "execution_count": 98,
   "metadata": {},
   "outputs": [],
   "source": [
    "# producaoVinifera_anual[producaoVinifera_anual['produto'].str.contains('BRANCAS E ROSADAS')]"
   ]
  },
  {
   "cell_type": "code",
   "execution_count": 100,
   "metadata": {},
   "outputs": [],
   "source": [
    "# tabela_processaViniferas.head()"
   ]
  }
 ],
 "metadata": {
  "kernelspec": {
   "display_name": "venv",
   "language": "python",
   "name": "python3"
  },
  "language_info": {
   "codemirror_mode": {
    "name": "ipython",
    "version": 3
   },
   "file_extension": ".py",
   "mimetype": "text/x-python",
   "name": "python",
   "nbconvert_exporter": "python",
   "pygments_lexer": "ipython3",
   "version": "3.9.18"
  },
  "orig_nbformat": 4
 },
 "nbformat": 4,
 "nbformat_minor": 2
}
